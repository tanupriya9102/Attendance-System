{
 "cells": [
  {
   "cell_type": "code",
   "execution_count": 5,
   "id": "2e6bbe1b",
   "metadata": {},
   "outputs": [
    {
     "name": "stdout",
     "output_type": "stream",
     "text": [
      "Collecting redis\n",
      "  Using cached redis-5.0.0-py3-none-any.whl (250 kB)\n",
      "Installing collected packages: redis\n",
      "Successfully installed redis-5.0.0\n",
      "Note: you may need to restart the kernel to use updated packages.\n"
     ]
    },
    {
     "name": "stderr",
     "output_type": "stream",
     "text": [
      "\n",
      "[notice] A new release of pip is available: 23.1.2 -> 23.2.1\n",
      "[notice] To update, run: C:\\Users\\Dell\\AppData\\Local\\Programs\\Python\\Python311\\python.exe -m pip install --upgrade pip\n"
     ]
    }
   ],
   "source": [
    "pip install redis"
   ]
  },
  {
   "cell_type": "code",
   "execution_count": 6,
   "id": "4074aa64",
   "metadata": {},
   "outputs": [],
   "source": [
    "import redis\n",
    "# r = redis.Redis(host='localhost', port=6379, decode_responses=True)"
   ]
  },
  {
   "cell_type": "code",
   "execution_count": 8,
   "id": "5777409c",
   "metadata": {},
   "outputs": [],
   "source": [
    "\n",
    "r = redis.Redis(host='redis-14439.c11.us-east-1-2.ec2.cloud.redislabs.com', \n",
    "                port=14439, \n",
    "                password='DxjqJPVLfhu1uaguL4fYyYhYkY5BKhX0')\n"
   ]
  },
  {
   "cell_type": "markdown",
   "id": "ce61e6d0",
   "metadata": {},
   "source": [
    "## Redis strings\n",
    "set\n",
    "get\n"
   ]
  },
  {
   "cell_type": "code",
   "execution_count": null,
   "id": "4afba13f",
   "metadata": {},
   "outputs": [],
   "source": [
    "r.set()"
   ]
  },
  {
   "cell_type": "code",
   "execution_count": null,
   "id": "90aab269",
   "metadata": {},
   "outputs": [],
   "source": []
  }
 ],
 "metadata": {
  "kernelspec": {
   "display_name": "Python 3 (ipykernel)",
   "language": "python",
   "name": "python3"
  },
  "language_info": {
   "codemirror_mode": {
    "name": "ipython",
    "version": 3
   },
   "file_extension": ".py",
   "mimetype": "text/x-python",
   "name": "python",
   "nbconvert_exporter": "python",
   "pygments_lexer": "ipython3",
   "version": "3.11.4"
  }
 },
 "nbformat": 4,
 "nbformat_minor": 5
}
