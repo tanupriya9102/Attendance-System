{
 "cells": [
  {
   "cell_type": "code",
   "execution_count": 1,
   "id": "4a499025",
   "metadata": {},
   "outputs": [],
   "source": [
    "import numpy as np\n",
    "import pandas as pd\n",
    "import redis"
   ]
  },
  {
   "cell_type": "code",
   "execution_count": 57,
   "id": "61cf2f0a",
   "metadata": {},
   "outputs": [],
   "source": [
    "# redis-12025.c85.us-east-1-2.ec2.cloud.redislabs.com:12025\n",
    "hostname='redis-12025.c85.us-east-1-2.ec2.cloud.redislabs.com'\n",
    "port=12025\n",
    "password='LhNFHs1KTyB9C1MWktmKlu2oP8iSr6C6'\n",
    "r=redis.StrictRedis(host=hostname,\n",
    "                    port=port,\n",
    "                    password=password)"
   ]
  },
  {
   "cell_type": "code",
   "execution_count": 3,
   "id": "2b2dee74",
   "metadata": {},
   "outputs": [
    {
     "data": {
      "text/plain": [
       "True"
      ]
     },
     "execution_count": 3,
     "metadata": {},
     "output_type": "execute_result"
    }
   ],
   "source": [
    "r.ping()"
   ]
  },
  {
   "cell_type": "code",
   "execution_count": 4,
   "id": "9e3cc5e3",
   "metadata": {},
   "outputs": [
    {
     "data": {
      "text/plain": [
       "[]"
      ]
     },
     "execution_count": 4,
     "metadata": {},
     "output_type": "execute_result"
    }
   ],
   "source": [
    "# r.keys()"
   ]
  },
  {
   "cell_type": "code",
   "execution_count": 7,
   "id": "65fe7703",
   "metadata": {},
   "outputs": [
    {
     "data": {
      "text/html": [
       "<div>\n",
       "<style scoped>\n",
       "    .dataframe tbody tr th:only-of-type {\n",
       "        vertical-align: middle;\n",
       "    }\n",
       "\n",
       "    .dataframe tbody tr th {\n",
       "        vertical-align: top;\n",
       "    }\n",
       "\n",
       "    .dataframe thead th {\n",
       "        text-align: right;\n",
       "    }\n",
       "</style>\n",
       "<table border=\"1\" class=\"dataframe\">\n",
       "  <thead>\n",
       "    <tr style=\"text-align: right;\">\n",
       "      <th></th>\n",
       "      <th>Name</th>\n",
       "      <th>Role</th>\n",
       "      <th>Facial_Features</th>\n",
       "    </tr>\n",
       "  </thead>\n",
       "  <tbody>\n",
       "    <tr>\n",
       "      <th>0</th>\n",
       "      <td>Angelina Jolie</td>\n",
       "      <td>Student</td>\n",
       "      <td>[0.4324317, 1.074975, -0.12851736, -1.833421, ...</td>\n",
       "    </tr>\n",
       "    <tr>\n",
       "      <th>1</th>\n",
       "      <td>Barack Obama</td>\n",
       "      <td>Teacher</td>\n",
       "      <td>[0.94846946, -0.5583677, 0.09491567, -1.279613...</td>\n",
       "    </tr>\n",
       "    <tr>\n",
       "      <th>2</th>\n",
       "      <td>Chris Evans</td>\n",
       "      <td>Student</td>\n",
       "      <td>[0.72002447, -1.4682528, -0.77743137, -1.45999...</td>\n",
       "    </tr>\n",
       "    <tr>\n",
       "      <th>3</th>\n",
       "      <td>Morgan Freeman</td>\n",
       "      <td>Teacher</td>\n",
       "      <td>[0.48562637, -0.61965686, -0.4072629, 1.068597...</td>\n",
       "    </tr>\n",
       "    <tr>\n",
       "      <th>4</th>\n",
       "      <td>Scarlett Johansson</td>\n",
       "      <td>Student</td>\n",
       "      <td>[0.1912692, -0.48850536, -1.6902622, 0.4422732...</td>\n",
       "    </tr>\n",
       "  </tbody>\n",
       "</table>\n",
       "</div>"
      ],
      "text/plain": [
       "                 Name     Role  \\\n",
       "0      Angelina Jolie  Student   \n",
       "1        Barack Obama  Teacher   \n",
       "2         Chris Evans  Student   \n",
       "3      Morgan Freeman  Teacher   \n",
       "4  Scarlett Johansson  Student   \n",
       "\n",
       "                                     Facial_Features  \n",
       "0  [0.4324317, 1.074975, -0.12851736, -1.833421, ...  \n",
       "1  [0.94846946, -0.5583677, 0.09491567, -1.279613...  \n",
       "2  [0.72002447, -1.4682528, -0.77743137, -1.45999...  \n",
       "3  [0.48562637, -0.61965686, -0.4072629, 1.068597...  \n",
       "4  [0.1912692, -0.48850536, -1.6902622, 0.4422732...  "
      ]
     },
     "execution_count": 7,
     "metadata": {},
     "output_type": "execute_result"
    }
   ],
   "source": [
    "# load numpy zip data\n",
    "f=np.load('DataFrame_students_teachers.npz',allow_pickle=True)\n",
    "x_values=f['arr_0']\n",
    "col=f['arr_1']\n",
    "df=pd.DataFrame(x_values,columns=col)\n",
    "df"
   ]
  },
  {
   "cell_type": "code",
   "execution_count": 10,
   "id": "e5f6e07e",
   "metadata": {},
   "outputs": [],
   "source": [
    "# We have to store data in redis in hash table \n",
    "'''there cannot be 2 keys for a value therefore we will\n",
    "combine name and role into 1 column'''\n",
    "\n",
    "df['name_role']=df['Name']+'@'+df['Role'] "
   ]
  },
  {
   "cell_type": "code",
   "execution_count": 11,
   "id": "7768cd01",
   "metadata": {},
   "outputs": [
    {
     "data": {
      "text/html": [
       "<div>\n",
       "<style scoped>\n",
       "    .dataframe tbody tr th:only-of-type {\n",
       "        vertical-align: middle;\n",
       "    }\n",
       "\n",
       "    .dataframe tbody tr th {\n",
       "        vertical-align: top;\n",
       "    }\n",
       "\n",
       "    .dataframe thead th {\n",
       "        text-align: right;\n",
       "    }\n",
       "</style>\n",
       "<table border=\"1\" class=\"dataframe\">\n",
       "  <thead>\n",
       "    <tr style=\"text-align: right;\">\n",
       "      <th></th>\n",
       "      <th>Name</th>\n",
       "      <th>Role</th>\n",
       "      <th>Facial_Features</th>\n",
       "      <th>name_role</th>\n",
       "    </tr>\n",
       "  </thead>\n",
       "  <tbody>\n",
       "    <tr>\n",
       "      <th>0</th>\n",
       "      <td>Angelina Jolie</td>\n",
       "      <td>Student</td>\n",
       "      <td>[0.4324317, 1.074975, -0.12851736, -1.833421, ...</td>\n",
       "      <td>Angelina Jolie@Student</td>\n",
       "    </tr>\n",
       "    <tr>\n",
       "      <th>1</th>\n",
       "      <td>Barack Obama</td>\n",
       "      <td>Teacher</td>\n",
       "      <td>[0.94846946, -0.5583677, 0.09491567, -1.279613...</td>\n",
       "      <td>Barack Obama@Teacher</td>\n",
       "    </tr>\n",
       "    <tr>\n",
       "      <th>2</th>\n",
       "      <td>Chris Evans</td>\n",
       "      <td>Student</td>\n",
       "      <td>[0.72002447, -1.4682528, -0.77743137, -1.45999...</td>\n",
       "      <td>Chris Evans@Student</td>\n",
       "    </tr>\n",
       "    <tr>\n",
       "      <th>3</th>\n",
       "      <td>Morgan Freeman</td>\n",
       "      <td>Teacher</td>\n",
       "      <td>[0.48562637, -0.61965686, -0.4072629, 1.068597...</td>\n",
       "      <td>Morgan Freeman@Teacher</td>\n",
       "    </tr>\n",
       "    <tr>\n",
       "      <th>4</th>\n",
       "      <td>Scarlett Johansson</td>\n",
       "      <td>Student</td>\n",
       "      <td>[0.1912692, -0.48850536, -1.6902622, 0.4422732...</td>\n",
       "      <td>Scarlett Johansson@Student</td>\n",
       "    </tr>\n",
       "  </tbody>\n",
       "</table>\n",
       "</div>"
      ],
      "text/plain": [
       "                 Name     Role  \\\n",
       "0      Angelina Jolie  Student   \n",
       "1        Barack Obama  Teacher   \n",
       "2         Chris Evans  Student   \n",
       "3      Morgan Freeman  Teacher   \n",
       "4  Scarlett Johansson  Student   \n",
       "\n",
       "                                     Facial_Features  \\\n",
       "0  [0.4324317, 1.074975, -0.12851736, -1.833421, ...   \n",
       "1  [0.94846946, -0.5583677, 0.09491567, -1.279613...   \n",
       "2  [0.72002447, -1.4682528, -0.77743137, -1.45999...   \n",
       "3  [0.48562637, -0.61965686, -0.4072629, 1.068597...   \n",
       "4  [0.1912692, -0.48850536, -1.6902622, 0.4422732...   \n",
       "\n",
       "                    name_role  \n",
       "0      Angelina Jolie@Student  \n",
       "1        Barack Obama@Teacher  \n",
       "2         Chris Evans@Student  \n",
       "3      Morgan Freeman@Teacher  \n",
       "4  Scarlett Johansson@Student  "
      ]
     },
     "execution_count": 11,
     "metadata": {},
     "output_type": "execute_result"
    }
   ],
   "source": [
    "df"
   ]
  },
  {
   "cell_type": "code",
   "execution_count": 12,
   "id": "538e7027",
   "metadata": {},
   "outputs": [
    {
     "data": {
      "text/plain": [
       "5"
      ]
     },
     "execution_count": 12,
     "metadata": {},
     "output_type": "execute_result"
    }
   ],
   "source": [
    "records=df[['name_role','Facial_Features']].to_dict(orient='records')\n",
    "len(records)"
   ]
  },
  {
   "cell_type": "code",
   "execution_count": 15,
   "id": "171395a5",
   "metadata": {},
   "outputs": [],
   "source": [
    "# records"
   ]
  },
  {
   "cell_type": "markdown",
   "id": "5faf8104",
   "metadata": {},
   "source": [
    "# Save data  in redis hashes"
   ]
  },
  {
   "cell_type": "code",
   "execution_count": 20,
   "id": "ae6d4568",
   "metadata": {},
   "outputs": [],
   "source": [
    "#cannot store facial features directly i.e array we need to conver it to bytes\n",
    "for record in records:\n",
    "    name_role=record['name_role']\n",
    "    vector=record['Facial_Features']\n",
    "    \n",
    "    v_bytes=vector.tobytes()\n",
    "    r.hset(name='academy:register',key=name_role,value=v_bytes)"
   ]
  },
  {
   "cell_type": "markdown",
   "id": "fb68e3ae",
   "metadata": {},
   "source": [
    "# Registeration Form"
   ]
  },
  {
   "cell_type": "code",
   "execution_count": 21,
   "id": "ab6bc9b8",
   "metadata": {},
   "outputs": [],
   "source": [
    "import cv2\n",
    "from insightface.app import FaceAnalysis"
   ]
  },
  {
   "cell_type": "code",
   "execution_count": 22,
   "id": "54df92dc",
   "metadata": {},
   "outputs": [
    {
     "name": "stdout",
     "output_type": "stream",
     "text": [
      "Applied providers: ['CPUExecutionProvider'], with options: {'CPUExecutionProvider': {}}\n",
      "find model: insightface_model\\models\\buffalo_sc\\det_500m.onnx detection [1, 3, '?', '?'] 127.5 128.0\n",
      "Applied providers: ['CPUExecutionProvider'], with options: {'CPUExecutionProvider': {}}\n",
      "find model: insightface_model\\models\\buffalo_sc\\w600k_mbf.onnx recognition ['None', 3, 112, 112] 127.5 127.5\n",
      "set det-size: (640, 640)\n"
     ]
    }
   ],
   "source": [
    "# configure model\n",
    "faceapp=FaceAnalysis(name='buffalo_sc',\n",
    "                     root='insightface_model',\n",
    "                     providers=['CPUExecutionProvider'])\n",
    "faceapp.prepare(ctx_id=0,det_size=(640,640),det_thresh=0.5)\n",
    "# don't set threshold below 0.3"
   ]
  },
  {
   "cell_type": "markdown",
   "id": "cc15bf6b",
   "metadata": {},
   "source": [
    "## 1. Collect Person and Role"
   ]
  },
  {
   "cell_type": "code",
   "execution_count": 35,
   "id": "07f54d6d",
   "metadata": {},
   "outputs": [
    {
     "name": "stdout",
     "output_type": "stream",
     "text": [
      "Enter your name: tanu\n",
      "Please choose:\n",
      "    1. Student\n",
      "    2. Teacher\n",
      "    Enter either 1 or 2.\n",
      "    1\n",
      "tanu@Student\n"
     ]
    }
   ],
   "source": [
    "person=input(\"Enter your name: \")\n",
    "\n",
    "trials=3\n",
    "for i in range(trials):\n",
    "    role=input(\"\"\"Please choose:\n",
    "    1. Student\n",
    "    2. Teacher\n",
    "    Enter either 1 or 2.\n",
    "    \"\"\")\n",
    "    if role=='1':\n",
    "        role='Student'\n",
    "        break\n",
    "    \n",
    "    elif role=='2':\n",
    "        role='Teacher'\n",
    "        break\n",
    "        \n",
    "    else:\n",
    "        print(\"Invalid Entry\")\n",
    "        if(i==2):\n",
    "            print(\"Max limit for trials reached!!\")\n",
    "            \n",
    "key=person+'@'+role\n",
    "print(key)\n"
   ]
  },
  {
   "cell_type": "code",
   "execution_count": 50,
   "id": "6c777439",
   "metadata": {},
   "outputs": [],
   "source": [
    "# import the opencv library\n",
    "\n",
    "# define a video capture object\n",
    "vid = cv2.VideoCapture(0)\n",
    "face_embeddings=[]\n",
    "samples=0\n",
    "while(True):\n",
    "    # Capture the video frame\n",
    "    # by frame\n",
    "    ret, frame = vid.read()\n",
    "    if ret==False:\n",
    "        print(\"Unable to read camera\")\n",
    "        break\n",
    "        \n",
    "#     get results from insightface\n",
    "    results=faceapp.get(frame,max_num=1)\n",
    "    for res in results:\n",
    "        samples+=1\n",
    "        x1,y1,x2,y2=res['bbox'].astype(int)\n",
    "        cv2.rectangle(frame,(x1,y1),(x2,y2),(0,255,0),1)\n",
    "        \n",
    "    \n",
    "#         facial features\n",
    "        embeddings=r['embedding']\n",
    "        face_embeddings.append(embeddings)\n",
    "    if samples>=200:\n",
    "        break\n",
    "        # Display the resulting frame\n",
    "    cv2.imshow('frame', frame)\n",
    "    if cv2.waitKey(1) == ord('q'):\n",
    "        break\n",
    "\n",
    "# After the loop release the cap object\n",
    "vid.release()\n",
    "# Destroy all the windows\n",
    "cv2.destroyAllWindows()\n"
   ]
  },
  {
   "cell_type": "code",
   "execution_count": 51,
   "id": "3fa251fa",
   "metadata": {},
   "outputs": [
    {
     "data": {
      "text/plain": [
       "200"
      ]
     },
     "execution_count": 51,
     "metadata": {},
     "output_type": "execute_result"
    }
   ],
   "source": [
    "len(face_embeddings)"
   ]
  },
  {
   "cell_type": "markdown",
   "id": "d5a765b9",
   "metadata": {},
   "source": [
    "# # Optimise data and store in redis"
   ]
  },
  {
   "cell_type": "code",
   "execution_count": 55,
   "id": "f2c01b3a",
   "metadata": {},
   "outputs": [
    {
     "data": {
      "text/plain": [
       "(512,)"
      ]
     },
     "execution_count": 55,
     "metadata": {},
     "output_type": "execute_result"
    }
   ],
   "source": [
    "x_mean=np.asarray(face_embeddings).mean(axis=0)\n",
    "x_mean.shape"
   ]
  },
  {
   "cell_type": "code",
   "execution_count": 56,
   "id": "8d154971",
   "metadata": {},
   "outputs": [],
   "source": [
    "# convert to bytes\n",
    "x_mean_bytes=x_mean.tobytes()"
   ]
  },
  {
   "cell_type": "code",
   "execution_count": 58,
   "id": "525ebd06",
   "metadata": {},
   "outputs": [
    {
     "data": {
      "text/plain": [
       "1"
      ]
     },
     "execution_count": 58,
     "metadata": {},
     "output_type": "execute_result"
    }
   ],
   "source": [
    "# save key and bytes to database\n",
    "r.hset(name='academy:register',key=key,value=x_mean_bytes)"
   ]
  },
  {
   "cell_type": "raw",
   "id": "0021f430",
   "metadata": {},
   "source": []
  },
  {
   "cell_type": "code",
   "execution_count": null,
   "id": "029117b9",
   "metadata": {},
   "outputs": [],
   "source": []
  },
  {
   "cell_type": "code",
   "execution_count": null,
   "id": "babc307b",
   "metadata": {},
   "outputs": [],
   "source": []
  },
  {
   "cell_type": "code",
   "execution_count": null,
   "id": "01c2aa81",
   "metadata": {},
   "outputs": [],
   "source": []
  }
 ],
 "metadata": {
  "kernelspec": {
   "display_name": "Python 3 (ipykernel)",
   "language": "python",
   "name": "python3"
  },
  "language_info": {
   "codemirror_mode": {
    "name": "ipython",
    "version": 3
   },
   "file_extension": ".py",
   "mimetype": "text/x-python",
   "name": "python",
   "nbconvert_exporter": "python",
   "pygments_lexer": "ipython3",
   "version": "3.11.4"
  }
 },
 "nbformat": 4,
 "nbformat_minor": 5
}
